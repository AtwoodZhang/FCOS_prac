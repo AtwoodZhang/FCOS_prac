{
 "cells": [
  {
   "cell_type": "markdown",
   "metadata": {},
   "source": [
    "# 1. classmethod类方法\n",
    "#### classmethod 是用来指定一个类的方法为类方法，没有此参数指定的类的方法为实例方法。"
   ]
  },
  {
   "cell_type": "code",
   "execution_count": 1,
   "metadata": {},
   "outputs": [],
   "source": [
    "class C:\n",
    "    @classmethod\n",
    "    def f(cls, arg1, arg2):\n",
    "        pass"
   ]
  },
  {
   "cell_type": "markdown",
   "metadata": {},
   "source": [
    "# 2. 其他例子"
   ]
  },
  {
   "cell_type": "markdown",
   "metadata": {},
   "source": [
    "#### 定义普通类"
   ]
  },
  {
   "cell_type": "code",
   "execution_count": 2,
   "metadata": {},
   "outputs": [
    {
     "name": "stdout",
     "output_type": "stream",
     "text": [
      "year: 2016\n",
      "month: 8\n",
      "day: 1\n"
     ]
    }
   ],
   "source": [
    "class Data_test(object):\n",
    "    day = 0\n",
    "    month = 0\n",
    "    year = 0\n",
    "    def __init__(self, year=0, month=0, day=0):\n",
    "        self.day = day\n",
    "        self.month = month\n",
    "        self.year = year\n",
    "    \n",
    "    def out_date(self):\n",
    "        print(\"year:\", self.year)\n",
    "        print(\"month:\", self.month)\n",
    "        print(\"day:\", self.day)\n",
    "\n",
    "t = Data_test(2016, 8, 1)\n",
    "t.out_date()"
   ]
  },
  {
   "cell_type": "markdown",
   "metadata": {},
   "source": [
    "#### 如果用户输入的是“2016-8-1”这样的字符格式，那么就需要调用Date_test类前做一下处理："
   ]
  },
  {
   "cell_type": "code",
   "execution_count": 4,
   "metadata": {},
   "outputs": [],
   "source": [
    "string_date = '2016-8-1'\n",
    "year, month, day = map(int, string_date.split(\"-\"))\n",
    "s = Data_test(year, month, day)\n",
    "# 先把“2016-8-1”分解成year, month, day三个变量，然后转成int, 再调用Data_test函数，也很符合期望。"
   ]
  },
  {
   "cell_type": "markdown",
   "metadata": {},
   "source": [
    "##### 2. 把字符串处理的函数放到Data_test类当中，那么@classmethod就开始出场了。"
   ]
  },
  {
   "cell_type": "code",
   "execution_count": 3,
   "metadata": {},
   "outputs": [
    {
     "name": "stdout",
     "output_type": "stream",
     "text": [
      "year: 2016\n",
      "month: 8\n",
      "day: 1\n"
     ]
    }
   ],
   "source": [
    "class Data_test2(object):\n",
    "    day = 0\n",
    "    month = 0\n",
    "    year = 0\n",
    "    def __init__(self, year=0, month=0, day=0):\n",
    "        self.day = day\n",
    "        self.month = month\n",
    "        self.year = year\n",
    "    \n",
    "    @classmethod \n",
    "    def get_data(cls, string_data):\n",
    "        # 这里的第一个参数是cls, 表示适用当前的类名， \n",
    "        # 通过@classmethod传进来一个当前类作为第一个参数；\n",
    "        year, month, day = map(int, string_data.split(\"-\"))\n",
    "        data1 = cls(year, month, day)\n",
    "        # 返回的是一个初始化后的类\n",
    "        return data1\n",
    "    \n",
    "    def out_data(self):\n",
    "        print(\"year:\", self.year)\n",
    "        print(\"month:\", self.month)\n",
    "        print(\"day:\", self.day)\n",
    "        \n",
    "r = Data_test2.get_data(\"2016-8-1\")\n",
    "r.out_data()"
   ]
  },
  {
   "cell_type": "markdown",
   "metadata": {},
   "source": [
    "###### 这样子等于先调用get_data()对字符串进行处理，然后才适用Data_test的构造函数初始化。"
   ]
  },
  {
   "cell_type": "code",
   "execution_count": null,
   "metadata": {},
   "outputs": [],
   "source": []
  }
 ],
 "metadata": {
  "kernelspec": {
   "display_name": "Python 3.10.0 ('Fcos')",
   "language": "python",
   "name": "python3"
  },
  "language_info": {
   "codemirror_mode": {
    "name": "ipython",
    "version": 3
   },
   "file_extension": ".py",
   "mimetype": "text/x-python",
   "name": "python",
   "nbconvert_exporter": "python",
   "pygments_lexer": "ipython3",
   "version": "3.10.0"
  },
  "orig_nbformat": 4,
  "vscode": {
   "interpreter": {
    "hash": "6d1b61189d15a396b010f3675b669699110e21800408f015eabf78e44a44ef1f"
   }
  }
 },
 "nbformat": 4,
 "nbformat_minor": 2
}
