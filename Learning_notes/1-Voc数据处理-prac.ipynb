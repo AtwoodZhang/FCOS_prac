{
 "cells": [
  {
   "cell_type": "code",
   "execution_count": 3,
   "id": "083bb28b",
   "metadata": {},
   "outputs": [],
   "source": [
    "# 导入工具包\n",
    "import torch\n",
    "import xml.etree.ElementTree as ET\n",
    "import os\n",
    "import cv2\n",
    "import numpy as np\n",
    "from torchvision import transforms\n",
    "import matplotlib.pyplot as plt\n",
    "from PIL import Image\n",
    "import random\n",
    "import math"
   ]
  },
  {
   "cell_type": "markdown",
   "id": "e0cbebd3",
   "metadata": {},
   "source": [
    "# 1. 检测dataset框架"
   ]
  },
  {
   "cell_type": "code",
   "execution_count": 4,
   "id": "24ae2c69",
   "metadata": {},
   "outputs": [],
   "source": [
    "class CustomerDataset(torch.utils.data.Dataset):\n",
    "    def __init__(self):\n",
    "        \"\"\"\n",
    "        对象初始化\n",
    "        \"\"\"\n",
    "        pass\n",
    "    \n",
    "    def __len__(self):\n",
    "        \"\"\"返回数据集的大小\n",
    "        \"\"\"\n",
    "        pass\n",
    "    \n",
    "    def __getitem__(self, index):\n",
    "        \"\"\"定义数据集迭代器\n",
    "\n",
    "        Args:\n",
    "            index (_type_): _description_\n",
    "        \"\"\"\n",
    "        pass\n",
    "    \n",
    "    def preprocess_img_boxes(self, image, boxes):\n",
    "        \"\"\"图片和标签的处理\n",
    "\n",
    "        Args:\n",
    "            image (_type_): _description_\n",
    "            boxes (_type_): _description_\n",
    "        \"\"\"\n",
    "        pass\n",
    "    \n",
    "    def collate_fn(self, image, boxes, classes):\n",
    "        \"\"\"标签对齐\n",
    "\n",
    "        Args:\n",
    "            image (_type_): _description_\n",
    "            boxes (_type_): _description_\n",
    "            classes (_type_): _description_\n",
    "        \"\"\"\n",
    "        pass"
   ]
  },
  {
   "cell_type": "markdown",
   "id": "aea5ec0a",
   "metadata": {},
   "source": [
    "# VOCDataset()实现"
   ]
  },
  {
   "cell_type": "markdown",
   "id": "8cd30e63",
   "metadata": {},
   "source": []
  }
 ],
 "metadata": {
  "kernelspec": {
   "display_name": "Python 3.8.0 ('IMX500')",
   "language": "python",
   "name": "python3"
  },
  "language_info": {
   "codemirror_mode": {
    "name": "ipython",
    "version": 3
   },
   "file_extension": ".py",
   "mimetype": "text/x-python",
   "name": "python",
   "nbconvert_exporter": "python",
   "pygments_lexer": "ipython3",
   "version": "3.8.0"
  },
  "vscode": {
   "interpreter": {
    "hash": "a6898330a772008c0efb32b6e51c3fb8f855e3228c7dbee5aae70bc6dd7211e8"
   }
  }
 },
 "nbformat": 4,
 "nbformat_minor": 5
}
