{
 "cells": [
  {
   "cell_type": "code",
   "execution_count": 1,
   "metadata": {},
   "outputs": [],
   "source": [
    "import torch\n",
    "import torch.nn as nn\n",
    "import torch.utils.model_zoo as model_zoo\n",
    "import torch.nn.functional as F\n",
    "import math"
   ]
  },
  {
   "cell_type": "code",
   "execution_count": null,
   "metadata": {},
   "outputs": [],
   "source": [
    "model_utils = {\n",
    "    \"resenet50\": \"https://download.pytorch.org/models/resnet50-19c8e357.pth\"\n",
    "}\n",
    "\n",
    "def conv3x3(in_planes, out_planes, stride=1):\n",
    "    \"\"\"3*3 convolution with padding\"\"\"\n",
    "    return nn.Conv2d(in_planes, out_planes, kernel_size=3, stride=stride, padding=1, bias=False)\n",
    "\n",
    "class Bottleneck(nn.Module):\n",
    "    # Resnet-B\n",
    "    expansion = 4\n",
    "    \n",
    "    def __init__(self, inplanes, planes, stride=1, downsample=None):\n",
    "        super(Bottleneck, self).__init__()\n",
    "        self.conv1 = nn.Conv2d(inplanes, planes, kernel_size=1, bias=False)\n",
    "        self.bn1 = nn.BatchNorm2d(planes)\n",
    "        self.\n",
    "        "
   ]
  },
  {
   "cell_type": "markdown",
   "metadata": {},
   "source": [
    "# 检测分支"
   ]
  },
  {
   "cell_type": "code",
   "execution_count": null,
   "metadata": {},
   "outputs": [],
   "source": [
    "class ClsCntRegHead(nn.Module):\n",
    "    \"\"\"检测分支\n",
    "\n",
    "    Args:\n",
    "        nn (_type_): _description_\n",
    "    \"\"\"\n",
    "    def __init__(self, in_channel, class_num, GN=True, cnt_on_reg=True, prior=0.01):\n",
    "        super(ClsCntRegHead, self).__init__()\n",
    "        self.prior = prior\n",
    "        self.class_num = class_num\n",
    "        self.cnt_on_reg = cnt_on_reg\n",
    "        \n",
    "        # 1 ========================从fpn到head的侧连===========================\n",
    "        cls_branch = []\n",
    "        reg_branch = []\n",
    "        for i in range(4):\n",
    "            # cls_branch: conv--gn--relu  这里的卷积都不改变图像尺寸\n",
    "            cls_branch.append(nn.Conv2d(in_channel, in_channel, kernel_size=3, padding=1, bias = True))\n",
    "            if GN:\n",
    "                reg_branch.append(nn.GroupNorm(32, in_channel))\n",
    "            cls_branch.append(nn.ReLU(True))\n",
    "            \n",
    "            # reg_branch: conv--gn--relu  这里的卷积都不改变图像尺寸\n",
    "            reg_branch.append(nn.Conv2d(in_channel, in_channel, kernel_size=3, padding=1, bias = True))\n",
    "            if GN:\n",
    "                reg_branch.append(nn.GroupNorm(32, in_channel))\n",
    "            reg_branch.append(nn.ReLU(True))\n",
    "        \n",
    "        # 1.1 分类网络分支\n",
    "        self.cls_conv = nn.Sequential(*cls_branch)  # 将cls_branch中的参数，一个个拆解成独立的参数；列表或者元组之前加一个*，字典前加两个**\n",
    "        # 1.2 回归网络分支\n",
    "        self.reg_conv = nn.Sequential(*reg_branch)\n",
    "        print(' Bypasses of the detection head;')\n",
    "        print(self.cls_conv, '\\n')\n",
    "        print(self.reg_conv)\n",
    "        # =======================================================================\n",
    "        \n",
    "        # 2 ========================网络输出=====================================\n",
    "        # 2.1 网络分类路径输出\n",
    "        \n",
    "        \n",
    "        \n",
    "        \n",
    "        "
   ]
  }
 ],
 "metadata": {
  "kernelspec": {
   "display_name": "Python 3.8.0 ('IMX500')",
   "language": "python",
   "name": "python3"
  },
  "language_info": {
   "codemirror_mode": {
    "name": "ipython",
    "version": 3
   },
   "file_extension": ".py",
   "mimetype": "text/x-python",
   "name": "python",
   "nbconvert_exporter": "python",
   "pygments_lexer": "ipython3",
   "version": "3.8.0"
  },
  "orig_nbformat": 4,
  "vscode": {
   "interpreter": {
    "hash": "a6898330a772008c0efb32b6e51c3fb8f855e3228c7dbee5aae70bc6dd7211e8"
   }
  }
 },
 "nbformat": 4,
 "nbformat_minor": 2
}
