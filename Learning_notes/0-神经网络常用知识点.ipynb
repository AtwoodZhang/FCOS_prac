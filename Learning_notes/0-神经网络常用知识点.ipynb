{
 "cells": [
  {
   "cell_type": "markdown",
   "id": "17832603",
   "metadata": {},
   "source": [
    "# Python知识点"
   ]
  },
  {
   "cell_type": "markdown",
   "id": "df731dd0",
   "metadata": {},
   "source": [
    "## os.path.join()"
   ]
  },
  {
   "cell_type": "code",
   "execution_count": 2,
   "id": "d3408aac",
   "metadata": {},
   "outputs": [
    {
     "name": "stdout",
     "output_type": "stream",
     "text": [
      "I am Vamei. I'm 99 years old\n"
     ]
    }
   ],
   "source": [
    "import os\n",
    "# 字符串模板\n",
    "print(\"I am %s. I'm %d years old\" % ('Vamei', 99))  # %s 字符 格式符 %d 整数格式符"
   ]
  },
  {
   "cell_type": "code",
   "execution_count": 3,
   "id": "1de58a80",
   "metadata": {},
   "outputs": [
    {
     "name": "stdout",
     "output_type": "stream",
     "text": [
      "home/Annotations/%s.xml\n",
      "home/Annotations/001.xml\n"
     ]
    }
   ],
   "source": [
    "base = os.path.join('home', \"Annotations\", \"%s.xml\");\n",
    "print(base)\n",
    "print(base % \"001\")"
   ]
  },
  {
   "cell_type": "markdown",
   "id": "534603ae",
   "metadata": {},
   "source": [
    "## tqdm()"
   ]
  },
  {
   "cell_type": "code",
   "execution_count": 4,
   "id": "749f1cbd",
   "metadata": {},
   "outputs": [
    {
     "name": "stderr",
     "output_type": "stream",
     "text": [
      "100%|█████████████████████████████████████| 100/100 [00:00<00:00, 934143.43it/s]\n"
     ]
    }
   ],
   "source": [
    "from tqdm import tqdm\n",
    "\n",
    "for item in tqdm(range(100)):\n",
    "    # do something\n",
    "    pass"
   ]
  },
  {
   "cell_type": "code",
   "execution_count": 6,
   "id": "b2e024aa",
   "metadata": {},
   "outputs": [
    {
     "name": "stdout",
     "output_type": "stream",
     "text": [
      "0 a\n",
      "1 b\n",
      "2 c\n"
     ]
    }
   ],
   "source": [
    "lt = ['a', 'b', 'c']\n",
    "for i, item in enumerate(lt):\n",
    "    print(i, item)"
   ]
  },
  {
   "cell_type": "code",
   "execution_count": 7,
   "id": "077f0db1",
   "metadata": {},
   "outputs": [
    {
     "name": "stderr",
     "output_type": "stream",
     "text": [
      "100%|██████████████████████████████████████████| 3/3 [00:00<00:00, 14614.30it/s]"
     ]
    },
    {
     "name": "stdout",
     "output_type": "stream",
     "text": [
      "0 a\n",
      "1 b\n",
      "2 c\n"
     ]
    },
    {
     "name": "stderr",
     "output_type": "stream",
     "text": [
      "\n"
     ]
    }
   ],
   "source": [
    "lt = ['a', 'b', 'c']\n",
    "for i, item in enumerate(tqdm(lt)):\n",
    "    print(i, item)"
   ]
  },
  {
   "cell_type": "markdown",
   "id": "3dd1e463",
   "metadata": {},
   "source": [
    "## assert()"
   ]
  },
  {
   "cell_type": "markdown",
   "id": "1854d811",
   "metadata": {},
   "source": [
    "不满足expression条件的话报错；"
   ]
  },
  {
   "cell_type": "code",
   "execution_count": null,
   "id": "17d6f52a",
   "metadata": {},
   "outputs": [],
   "source": [
    "assert expression [, arguments]"
   ]
  },
  {
   "cell_type": "markdown",
   "id": "635bc731",
   "metadata": {},
   "source": [
    "等价于"
   ]
  },
  {
   "cell_type": "code",
   "execution_count": null,
   "id": "2cede2af",
   "metadata": {},
   "outputs": [],
   "source": [
    "if not expression:\n",
    "    raise AssertionError(arguments)"
   ]
  },
  {
   "cell_type": "code",
   "execution_count": 13,
   "id": "9699b0c0",
   "metadata": {},
   "outputs": [
    {
     "name": "stdout",
     "output_type": "stream",
     "text": [
      "everything is good\n"
     ]
    }
   ],
   "source": [
    "assert 1==1\n",
    "print('everything is good')"
   ]
  },
  {
   "cell_type": "code",
   "execution_count": 15,
   "id": "b79d79fb",
   "metadata": {},
   "outputs": [
    {
     "ename": "AssertionError",
     "evalue": "not good",
     "output_type": "error",
     "traceback": [
      "\u001b[0;31m---------------------------------------------------------------------------\u001b[0m",
      "\u001b[0;31mAssertionError\u001b[0m                            Traceback (most recent call last)",
      "Cell \u001b[0;32mIn[15], line 1\u001b[0m\n\u001b[0;32m----> 1\u001b[0m \u001b[38;5;28;01massert\u001b[39;00m \u001b[38;5;241m1\u001b[39m\u001b[38;5;241m==\u001b[39m\u001b[38;5;241m2\u001b[39m, \u001b[38;5;124m'\u001b[39m\u001b[38;5;124mnot good\u001b[39m\u001b[38;5;124m'\u001b[39m\n\u001b[1;32m      2\u001b[0m \u001b[38;5;28mprint\u001b[39m(\u001b[38;5;124m'\u001b[39m\u001b[38;5;124meverything is good\u001b[39m\u001b[38;5;124m'\u001b[39m)\n",
      "\u001b[0;31mAssertionError\u001b[0m: not good"
     ]
    }
   ],
   "source": [
    "assert 1==2, 'not good'\n",
    "print('everything is good')"
   ]
  },
  {
   "cell_type": "markdown",
   "id": "ef3cf0a4",
   "metadata": {},
   "source": [
    "## zip()"
   ]
  },
  {
   "cell_type": "markdown",
   "id": "8c472d88",
   "metadata": {},
   "source": [
    "zip()函数用于将可迭代的对象作为参数，将对象中对应的元素打包成一个个元组，然后返回由这些元组组成的可迭代对象。\n",
    "利用*号操作符，可以将元组解压。"
   ]
  },
  {
   "cell_type": "code",
   "execution_count": 22,
   "id": "a6d094f1",
   "metadata": {},
   "outputs": [
    {
     "data": {
      "text/plain": [
       "<zip at 0x7f2273ba7ec0>"
      ]
     },
     "execution_count": 22,
     "metadata": {},
     "output_type": "execute_result"
    }
   ],
   "source": [
    "a = [1, 2, 3]\n",
    "b = [4, 5, 6]\n",
    "zipped = zip(a, b)  # 打包为元组的列表\n",
    "zipped"
   ]
  },
  {
   "cell_type": "code",
   "execution_count": 23,
   "id": "ac3519f6",
   "metadata": {},
   "outputs": [
    {
     "data": {
      "text/plain": [
       "[(1, 4), (2, 5), (3, 6)]"
      ]
     },
     "execution_count": 23,
     "metadata": {},
     "output_type": "execute_result"
    }
   ],
   "source": [
    "list(zipped)"
   ]
  },
  {
   "cell_type": "code",
   "execution_count": 27,
   "id": "c3e27cc4",
   "metadata": {},
   "outputs": [
    {
     "data": {
      "text/plain": [
       "[]"
      ]
     },
     "execution_count": 27,
     "metadata": {},
     "output_type": "execute_result"
    }
   ],
   "source": [
    "list(zip(*zipped))  # 与zip相反，*zipped可以理解为解压，返回二维矩阵式"
   ]
  },
  {
   "cell_type": "code",
   "execution_count": 28,
   "id": "eb135020",
   "metadata": {},
   "outputs": [
    {
     "data": {
      "text/plain": [
       "[(1, 3), (2, 4)]"
      ]
     },
     "execution_count": 28,
     "metadata": {},
     "output_type": "execute_result"
    }
   ],
   "source": [
    "c = [(1, 2), (3, 4)]\n",
    "list(zip(*c))"
   ]
  },
  {
   "cell_type": "markdown",
   "id": "4542a963",
   "metadata": {},
   "source": [
    "## map()"
   ]
  },
  {
   "cell_type": "markdown",
   "id": "cefdcde5",
   "metadata": {},
   "source": [
    "map()函数语法："
   ]
  },
  {
   "cell_type": "code",
   "execution_count": null,
   "id": "7a27d1ff",
   "metadata": {},
   "outputs": [],
   "source": [
    "map(function, iterable, ...)"
   ]
  },
  {
   "cell_type": "markdown",
   "id": "8ae0154f",
   "metadata": {},
   "source": [
    "map()会根据提供的函数对指定序列作映射，返回值为：可迭代对象"
   ]
  },
  {
   "cell_type": "code",
   "execution_count": 29,
   "id": "773eda0c",
   "metadata": {},
   "outputs": [
    {
     "data": {
      "text/plain": [
       "[1, 4, 9, 16, 25]"
      ]
     },
     "execution_count": 29,
     "metadata": {},
     "output_type": "execute_result"
    }
   ],
   "source": [
    "def square(x):  # 计算平方数\n",
    "    return x ** 2\n",
    "\n",
    "list(map(square, [1, 2, 3, 4, 5]))  # 计算列表各个元素的平方"
   ]
  },
  {
   "cell_type": "markdown",
   "id": "f1b03277",
   "metadata": {},
   "source": [
    "## array[..., n]"
   ]
  },
  {
   "cell_type": "markdown",
   "id": "8d7487e7",
   "metadata": {},
   "source": [
    "只看最后一个维度，按列选取"
   ]
  },
  {
   "cell_type": "code",
   "execution_count": 31,
   "id": "cd68e3ab",
   "metadata": {},
   "outputs": [
    {
     "name": "stdout",
     "output_type": "stream",
     "text": [
      "(1, 3, 4)\n"
     ]
    },
    {
     "data": {
      "text/plain": [
       "array([[48, 40,  3]])"
      ]
     },
     "execution_count": 31,
     "metadata": {},
     "output_type": "execute_result"
    }
   ],
   "source": [
    "import numpy as np\n",
    "y = np.array([[[10, 12, 48, 60],\n",
    "              [10, 20, 40, 50],\n",
    "              [1, 2, 3, 4]]])\n",
    "print(y.shape)\n",
    "y[..., 2]  # 取第一列 所有gt框的xmin"
   ]
  },
  {
   "cell_type": "code",
   "execution_count": 34,
   "id": "f994c785",
   "metadata": {},
   "outputs": [
    {
     "data": {
      "text/plain": [
       "array([[[ 0,  1,  2,  3],\n",
       "        [ 4,  5,  6,  7],\n",
       "        [ 8,  9, 10, 11]],\n",
       "\n",
       "       [[12, 13, 14, 15],\n",
       "        [16, 17, 18, 19],\n",
       "        [20, 21, 22, 23]]])"
      ]
     },
     "execution_count": 34,
     "metadata": {},
     "output_type": "execute_result"
    }
   ],
   "source": [
    "y = np.arange(24).reshape(2, 3, 4)\n",
    "y"
   ]
  },
  {
   "cell_type": "code",
   "execution_count": 35,
   "id": "b513999e",
   "metadata": {},
   "outputs": [
    {
     "data": {
      "text/plain": [
       "array([[ 0,  4,  8],\n",
       "       [12, 16, 20]])"
      ]
     },
     "execution_count": 35,
     "metadata": {},
     "output_type": "execute_result"
    }
   ],
   "source": [
    "y[..., 0]"
   ]
  },
  {
   "cell_type": "markdown",
   "id": "29ba5978",
   "metadata": {},
   "source": [
    "# Pytorch知识点"
   ]
  },
  {
   "cell_type": "code",
   "execution_count": 37,
   "id": "93e6de7d",
   "metadata": {},
   "outputs": [],
   "source": [
    "import torch\n",
    "import torch.nn as nn\n",
    "import torch.nn.functional as F\n",
    "import math\n",
    "import matplotlib.pyplot as plt"
   ]
  },
  {
   "cell_type": "markdown",
   "id": "323ba475",
   "metadata": {},
   "source": [
    "## Tensor"
   ]
  },
  {
   "cell_type": "markdown",
   "id": "1436c3ba",
   "metadata": {},
   "source": [
    "#### torch.tensor.type()"
   ]
  },
  {
   "cell_type": "markdown",
   "id": "ddcfeda4",
   "metadata": {},
   "source": [
    "查看张量类型：tensor.dtype\n",
    "张量类型转换：tensor.type()"
   ]
  },
  {
   "cell_type": "code",
   "execution_count": 38,
   "id": "41d9acdf",
   "metadata": {},
   "outputs": [
    {
     "name": "stdout",
     "output_type": "stream",
     "text": [
      "tensor([[0.0571, 0.3517, 0.2811, 0.0866],\n",
      "        [0.5100, 0.3208, 0.3378, 0.2282]])\n",
      "torch.float32\n"
     ]
    }
   ],
   "source": [
    "tensor = torch.rand((2, 4))\n",
    "print(tensor)\n",
    "print(tensor.dtype)"
   ]
  },
  {
   "cell_type": "code",
   "execution_count": 39,
   "id": "1e03178b",
   "metadata": {},
   "outputs": [
    {
     "name": "stdout",
     "output_type": "stream",
     "text": [
      "tensor([[0.0571, 0.3517, 0.2811, 0.0866],\n",
      "        [0.5100, 0.3208, 0.3378, 0.2282]], dtype=torch.float64)\n",
      "torch.float64\n"
     ]
    }
   ],
   "source": [
    "tensor = tensor.type(torch.float64)\n",
    "print(tensor)\n",
    "print(tensor.dtype)"
   ]
  },
  {
   "cell_type": "markdown",
   "id": "d7537eca",
   "metadata": {},
   "source": [
    "#### torch.from_numpy()"
   ]
  },
  {
   "cell_type": "markdown",
   "id": "089ffbb4",
   "metadata": {},
   "source": [
    "将numpy格式数据转换成torch.tensor"
   ]
  },
  {
   "cell_type": "markdown",
   "id": "6c123622",
   "metadata": {},
   "source": [
    "torch.numpy():将tensor转换成numpy数据"
   ]
  },
  {
   "cell_type": "code",
   "execution_count": 40,
   "id": "52cda82b",
   "metadata": {},
   "outputs": [
    {
     "data": {
      "text/plain": [
       "array([[0, 1, 2],\n",
       "       [3, 4, 5]])"
      ]
     },
     "execution_count": 40,
     "metadata": {},
     "output_type": "execute_result"
    }
   ],
   "source": [
    "# numpy的array与torch的tensor的转换\n",
    "np_data = np.arange(6).reshape((2, 3))\n",
    "np_data"
   ]
  },
  {
   "cell_type": "code",
   "execution_count": 41,
   "id": "a8eedd62",
   "metadata": {},
   "outputs": [
    {
     "data": {
      "text/plain": [
       "tensor([[0, 1, 2],\n",
       "        [3, 4, 5]])"
      ]
     },
     "execution_count": 41,
     "metadata": {},
     "output_type": "execute_result"
    }
   ],
   "source": [
    "torch_data = torch.from_numpy(np_data)\n",
    "torch_data"
   ]
  },
  {
   "cell_type": "code",
   "execution_count": 42,
   "id": "79784ffb",
   "metadata": {},
   "outputs": [
    {
     "data": {
      "text/plain": [
       "array([[0, 1, 2],\n",
       "       [3, 4, 5]])"
      ]
     },
     "execution_count": 42,
     "metadata": {},
     "output_type": "execute_result"
    }
   ],
   "source": [
    "tensor2array = torch_data.numpy()\n",
    "tensor2array"
   ]
  },
  {
   "cell_type": "code",
   "execution_count": null,
   "id": "02612dff",
   "metadata": {},
   "outputs": [],
   "source": []
  }
 ],
 "metadata": {
  "kernelspec": {
   "display_name": "Python 3 (ipykernel)",
   "language": "python",
   "name": "python3"
  },
  "language_info": {
   "codemirror_mode": {
    "name": "ipython",
    "version": 3
   },
   "file_extension": ".py",
   "mimetype": "text/x-python",
   "name": "python",
   "nbconvert_exporter": "python",
   "pygments_lexer": "ipython3",
   "version": "3.8.0"
  }
 },
 "nbformat": 4,
 "nbformat_minor": 5
}
