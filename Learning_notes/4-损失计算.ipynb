{
 "cells": [
  {
   "cell_type": "code",
   "execution_count": 1,
   "metadata": {},
   "outputs": [],
   "source": [
    "import torch\n",
    "import torch.nn as nn"
   ]
  },
  {
   "cell_type": "code",
   "execution_count": 2,
   "metadata": {},
   "outputs": [],
   "source": [
    "class DefaultConfig():\n",
    "    # backbone\n",
    "    backbone = \"darknet19\"\n",
    "    pretrained = True\n",
    "    freeze_stage_1 = True\n",
    "    freeze_bn = True\n",
    "    \n",
    "    # fpn\n",
    "    fpn_out_channels = 256\n",
    "    use_p5 = True\n",
    "    \n",
    "    # head\n",
    "    class_num = 5\n",
    "    use_GN_head = True\n",
    "    prior = 0.01\n",
    "    add_centerness = True\n",
    "    cnt_on_reg = False\n",
    "    \n",
    "    # training \n",
    "    strides = [8, 16, 32, 64, 128]\n",
    "    limit_range = [[-1, 64], [64, 128], [128, 256], [256, 512], [512, 999999]]\n",
    "    \n",
    "    # inference\n",
    "    score_threshold = 0.3\n",
    "    nms_iou_threshold = 0.2\n",
    "    max_detection_boxes_num = 150"
   ]
  },
  {
   "cell_type": "code",
   "execution_count": null,
   "metadata": {},
   "outputs": [],
   "source": [
    "class LOSS(nn.Module):\n",
    "    def __init__(self, config=None):\n",
    "        super().__init__()\n",
    "        if config is None:\n",
    "            self.config = DefaultConfig\n",
    "        else:\n",
    "            self.config = config\n",
    "    \n",
    "    def forward(self, inputs):\n",
    "        \"\"\"_summary_\n",
    "        Args:\n",
    "            inputs (_list_): _description_\n",
    "            [0]preds: ....\n",
    "            [1]targets: list contains three elements [[batch_size, sum(_h*_w), 1], [batch_size, sum(_h*_w), 1], [batch_size, sum(_h*_w), 4]]\n",
    "        \"\"\"\n",
    "        "
   ]
  }
 ],
 "metadata": {
  "kernelspec": {
   "display_name": "Python 3.10.0 ('Fcos')",
   "language": "python",
   "name": "python3"
  },
  "language_info": {
   "codemirror_mode": {
    "name": "ipython",
    "version": 3
   },
   "file_extension": ".py",
   "mimetype": "text/x-python",
   "name": "python",
   "nbconvert_exporter": "python",
   "pygments_lexer": "ipython3",
   "version": "3.10.0"
  },
  "orig_nbformat": 4,
  "vscode": {
   "interpreter": {
    "hash": "6d1b61189d15a396b010f3675b669699110e21800408f015eabf78e44a44ef1f"
   }
  }
 },
 "nbformat": 4,
 "nbformat_minor": 2
}
