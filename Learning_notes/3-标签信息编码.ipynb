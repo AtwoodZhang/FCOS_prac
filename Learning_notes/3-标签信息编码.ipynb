{
 "cells": [
  {
   "cell_type": "code",
   "execution_count": 1,
   "metadata": {},
   "outputs": [],
   "source": [
    "import numpy as np\n",
    "import torch\n",
    "import matplotlib.pyplot as plt\n",
    "from numpy import random"
   ]
  },
  {
   "cell_type": "markdown",
   "metadata": {},
   "source": [
    "## 1) 将特征图上的grid对应于原图上的位置\n",
    "每个特征点都携带原图内一定范围（感受野）内图像的信息，但是这些图像信息没办法直接转换成位置信息"
   ]
  },
  {
   "cell_type": "code",
   "execution_count": 2,
   "metadata": {},
   "outputs": [],
   "source": [
    "def coords_fmap2orig(feature, stride=16):\n",
    "    \"\"\"\n",
    "    transfer one fmap coords to orig coords\n",
    "\n",
    "    Args:\n",
    "        feature (list[batch_size, h, w, c]): c is class\n",
    "        stride (int): scale. Defaults to 16.\n",
    "    \n",
    "    Return:\n",
    "        coords [n, 2]\n",
    "    \"\"\"\n",
    "    h, w = feature.shape[1:3]\n",
    "    shifts_x = torch.arange(0, w*stride, stride, dtype=torch.float32)\n",
    "    shifts_y = torch.arange(0, h*stride, stride, dtype=torch.float32)\n",
    "    shift_y, shift_x = torch.meshgrid(shifts_y, shifts_x)\n",
    "    shift_x = torch.reshape(shift_x, [-1])\n",
    "    shift_y = torch.reshape(shift_y, [-1])\n",
    "    coords = torch.stack([shift_x, shift_y], -1) + (stride // 2)  # 中心点偏置\n",
    "    \n",
    "    # 可视化\n",
    "    plt.figure(figsize=(4,4))\n",
    "    plt.scatter(coords[:,0], coords[:,1])\n",
    "    return coords\n",
    "\n",
    "    \n",
    "    "
   ]
  }
 ],
 "metadata": {
  "kernelspec": {
   "display_name": "Python 3.8.0 ('IMX500')",
   "language": "python",
   "name": "python3"
  },
  "language_info": {
   "codemirror_mode": {
    "name": "ipython",
    "version": 3
   },
   "file_extension": ".py",
   "mimetype": "text/x-python",
   "name": "python",
   "nbconvert_exporter": "python",
   "pygments_lexer": "ipython3",
   "version": "3.8.0"
  },
  "orig_nbformat": 4,
  "vscode": {
   "interpreter": {
    "hash": "a6898330a772008c0efb32b6e51c3fb8f855e3228c7dbee5aae70bc6dd7211e8"
   }
  }
 },
 "nbformat": 4,
 "nbformat_minor": 2
}
