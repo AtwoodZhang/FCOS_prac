{
 "cells": [
  {
   "cell_type": "code",
   "execution_count": 1,
   "metadata": {},
   "outputs": [],
   "source": [
    "# https://www.jianshu.com/p/8b2c915dc39f"
   ]
  },
  {
   "cell_type": "code",
   "execution_count": null,
   "metadata": {},
   "outputs": [],
   "source": [
    "# 通过register_obj这个对象，通过传入对应的函数名来得到该函数。\n",
    "class RegisterMachine(object):\n",
    "    def __init__(self, name):\n",
    "        # name of register\n",
    "        self._name = name\n",
    "        self._name_method_map = dict()\n",
    "        \n",
    "    def register(self, obj=None):\n",
    "        # obj == None for function call register\n",
    "        # otherwise for decorator way\n",
    "        if obj != None:\n",
    "            name = obj.__name__\n",
    "            self._name_method_map[name] = obj\n",
    "            \n",
    "        else:\n",
    "            def wrapper(func):\n",
    "                name = func.__name__\n",
    "                self._name_method_map[name] = func\n",
    "                return func\n",
    "            return wrapper\n",
    "    \n",
    "    def get(self, name):\n",
    "        return self._name_method_map[name]"
   ]
  }
 ],
 "metadata": {
  "kernelspec": {
   "display_name": "Python 3.8.0 ('IMX500')",
   "language": "python",
   "name": "python3"
  },
  "language_info": {
   "codemirror_mode": {
    "name": "ipython",
    "version": 3
   },
   "file_extension": ".py",
   "mimetype": "text/x-python",
   "name": "python",
   "nbconvert_exporter": "python",
   "pygments_lexer": "ipython3",
   "version": "3.8.0"
  },
  "orig_nbformat": 4,
  "vscode": {
   "interpreter": {
    "hash": "a6898330a772008c0efb32b6e51c3fb8f855e3228c7dbee5aae70bc6dd7211e8"
   }
  }
 },
 "nbformat": 4,
 "nbformat_minor": 2
}
