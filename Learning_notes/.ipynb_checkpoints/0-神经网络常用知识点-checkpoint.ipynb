{
 "cells": [
  {
   "cell_type": "markdown",
   "id": "e05e1ff5",
   "metadata": {},
   "source": [
    "# Python知识点"
   ]
  },
  {
   "cell_type": "markdown",
   "id": "32dd914b",
   "metadata": {},
   "source": [
    "## os.path.join()"
   ]
  },
  {
   "cell_type": "code",
   "execution_count": 2,
   "id": "9b92fab4",
   "metadata": {},
   "outputs": [
    {
     "name": "stdout",
     "output_type": "stream",
     "text": [
      "I am Vamei. I'm 99 years old\n"
     ]
    }
   ],
   "source": [
    "import os\n",
    "# 字符串模板\n",
    "print(\"I am %s. I'm %d years old\" % ('Vamei', 99))  # %s 字符 格式符 %d 整数格式符"
   ]
  },
  {
   "cell_type": "code",
   "execution_count": 3,
   "id": "dd4d8111",
   "metadata": {},
   "outputs": [
    {
     "name": "stdout",
     "output_type": "stream",
     "text": [
      "home/Annotations/%s.xml\n",
      "home/Annotations/001.xml\n"
     ]
    }
   ],
   "source": [
    "base = os.path.join('home', \"Annotations\", \"%s.xml\");\n",
    "print(base)\n",
    "print(base % \"001\")"
   ]
  },
  {
   "cell_type": "markdown",
   "id": "520e656e",
   "metadata": {},
   "source": [
    "## tqdm()"
   ]
  },
  {
   "cell_type": "code",
   "execution_count": 4,
   "id": "f82d8ad7",
   "metadata": {},
   "outputs": [
    {
     "name": "stderr",
     "output_type": "stream",
     "text": [
      "100%|█████████████████████████████████████| 100/100 [00:00<00:00, 934143.43it/s]\n"
     ]
    }
   ],
   "source": [
    "from tqdm import tqdm\n",
    "\n",
    "for item in tqdm(range(100)):\n",
    "    # do something\n",
    "    pass"
   ]
  },
  {
   "cell_type": "code",
   "execution_count": 6,
   "id": "93080aad",
   "metadata": {},
   "outputs": [
    {
     "name": "stdout",
     "output_type": "stream",
     "text": [
      "0 a\n",
      "1 b\n",
      "2 c\n"
     ]
    }
   ],
   "source": [
    "lt = ['a', 'b', 'c']\n",
    "for i, item in enumerate(lt):\n",
    "    print(i, item)"
   ]
  },
  {
   "cell_type": "code",
   "execution_count": 7,
   "id": "472f43c6",
   "metadata": {},
   "outputs": [
    {
     "name": "stderr",
     "output_type": "stream",
     "text": [
      "100%|██████████████████████████████████████████| 3/3 [00:00<00:00, 14614.30it/s]"
     ]
    },
    {
     "name": "stdout",
     "output_type": "stream",
     "text": [
      "0 a\n",
      "1 b\n",
      "2 c\n"
     ]
    },
    {
     "name": "stderr",
     "output_type": "stream",
     "text": [
      "\n"
     ]
    }
   ],
   "source": [
    "lt = ['a', 'b', 'c']\n",
    "for i, item in enumerate(tqdm(lt)):\n",
    "    print(i, item)"
   ]
  },
  {
   "cell_type": "markdown",
   "id": "c795d301",
   "metadata": {},
   "source": [
    "## assert()"
   ]
  },
  {
   "cell_type": "markdown",
   "id": "4c73dfd1",
   "metadata": {},
   "source": [
    "不满足expression条件的话报错；"
   ]
  },
  {
   "cell_type": "code",
   "execution_count": null,
   "id": "981cd44e",
   "metadata": {},
   "outputs": [],
   "source": [
    "assert expression [, arguments]"
   ]
  },
  {
   "cell_type": "markdown",
   "id": "0ff8bd78",
   "metadata": {},
   "source": [
    "等价于"
   ]
  },
  {
   "cell_type": "code",
   "execution_count": null,
   "id": "3a03e697",
   "metadata": {},
   "outputs": [],
   "source": [
    "if not expression:\n",
    "    raise AssertionError(arguments)"
   ]
  },
  {
   "cell_type": "code",
   "execution_count": 13,
   "id": "8760d525",
   "metadata": {},
   "outputs": [
    {
     "name": "stdout",
     "output_type": "stream",
     "text": [
      "everything is good\n"
     ]
    }
   ],
   "source": [
    "assert 1==1\n",
    "print('everything is good')"
   ]
  },
  {
   "cell_type": "code",
   "execution_count": 15,
   "id": "b3bc0c6a",
   "metadata": {},
   "outputs": [
    {
     "ename": "AssertionError",
     "evalue": "not good",
     "output_type": "error",
     "traceback": [
      "\u001b[0;31m---------------------------------------------------------------------------\u001b[0m",
      "\u001b[0;31mAssertionError\u001b[0m                            Traceback (most recent call last)",
      "Cell \u001b[0;32mIn[15], line 1\u001b[0m\n\u001b[0;32m----> 1\u001b[0m \u001b[38;5;28;01massert\u001b[39;00m \u001b[38;5;241m1\u001b[39m\u001b[38;5;241m==\u001b[39m\u001b[38;5;241m2\u001b[39m, \u001b[38;5;124m'\u001b[39m\u001b[38;5;124mnot good\u001b[39m\u001b[38;5;124m'\u001b[39m\n\u001b[1;32m      2\u001b[0m \u001b[38;5;28mprint\u001b[39m(\u001b[38;5;124m'\u001b[39m\u001b[38;5;124meverything is good\u001b[39m\u001b[38;5;124m'\u001b[39m)\n",
      "\u001b[0;31mAssertionError\u001b[0m: not good"
     ]
    }
   ],
   "source": [
    "assert 1==2, 'not good'\n",
    "print('everything is good')"
   ]
  },
  {
   "cell_type": "markdown",
   "id": "93957c3b",
   "metadata": {},
   "source": [
    "## zip()"
   ]
  },
  {
   "cell_type": "markdown",
   "id": "1da54fe3",
   "metadata": {},
   "source": [
    "zip()函数用于将可迭代的对象作为参数，将对象中对应的元素打包成一个个元组，然后返回由这些元组组成的可迭代对象。\n",
    "利用*号操作符，可以将元组解压。"
   ]
  },
  {
   "cell_type": "code",
   "execution_count": 22,
   "id": "c8b0a098",
   "metadata": {},
   "outputs": [
    {
     "data": {
      "text/plain": [
       "<zip at 0x7f2273ba7ec0>"
      ]
     },
     "execution_count": 22,
     "metadata": {},
     "output_type": "execute_result"
    }
   ],
   "source": [
    "a = [1, 2, 3]\n",
    "b = [4, 5, 6]\n",
    "zipped = zip(a, b)  # 打包为元组的列表\n",
    "zipped"
   ]
  },
  {
   "cell_type": "code",
   "execution_count": 23,
   "id": "b0ef52ec",
   "metadata": {},
   "outputs": [
    {
     "data": {
      "text/plain": [
       "[(1, 4), (2, 5), (3, 6)]"
      ]
     },
     "execution_count": 23,
     "metadata": {},
     "output_type": "execute_result"
    }
   ],
   "source": [
    "list(zipped)"
   ]
  },
  {
   "cell_type": "code",
   "execution_count": 27,
   "id": "bc6ade36",
   "metadata": {},
   "outputs": [
    {
     "data": {
      "text/plain": [
       "[]"
      ]
     },
     "execution_count": 27,
     "metadata": {},
     "output_type": "execute_result"
    }
   ],
   "source": [
    "list(zip(*zipped))  # 与zip相反，*zipped可以理解为解压，返回二维矩阵式"
   ]
  },
  {
   "cell_type": "code",
   "execution_count": 28,
   "id": "3e15ec2e",
   "metadata": {},
   "outputs": [
    {
     "data": {
      "text/plain": [
       "[(1, 3), (2, 4)]"
      ]
     },
     "execution_count": 28,
     "metadata": {},
     "output_type": "execute_result"
    }
   ],
   "source": [
    "c = [(1, 2), (3, 4)]\n",
    "list(zip(*c))"
   ]
  },
  {
   "cell_type": "markdown",
   "id": "eaddbf4d",
   "metadata": {},
   "source": [
    "## map()"
   ]
  },
  {
   "cell_type": "markdown",
   "id": "a3a16d16",
   "metadata": {},
   "source": [
    "map()函数语法："
   ]
  },
  {
   "cell_type": "code",
   "execution_count": null,
   "id": "777ce123",
   "metadata": {},
   "outputs": [],
   "source": [
    "map(function, iterable, ...)"
   ]
  },
  {
   "cell_type": "markdown",
   "id": "8a4ee60e",
   "metadata": {},
   "source": [
    "map()会根据提供的函数对指定序列作映射，返回值为：可迭代对象"
   ]
  },
  {
   "cell_type": "code",
   "execution_count": 29,
   "id": "9a0c7895",
   "metadata": {},
   "outputs": [
    {
     "data": {
      "text/plain": [
       "[1, 4, 9, 16, 25]"
      ]
     },
     "execution_count": 29,
     "metadata": {},
     "output_type": "execute_result"
    }
   ],
   "source": [
    "def square(x):  # 计算平方数\n",
    "    return x ** 2\n",
    "\n",
    "list(map(square, [1, 2, 3, 4, 5]))  # 计算列表各个元素的平方"
   ]
  },
  {
   "cell_type": "markdown",
   "id": "1c3eacfa",
   "metadata": {},
   "source": [
    "## array[..., n]"
   ]
  },
  {
   "cell_type": "markdown",
   "id": "8cba485c",
   "metadata": {},
   "source": [
    "只看最后一个维度，按列选取"
   ]
  },
  {
   "cell_type": "code",
   "execution_count": 31,
   "id": "72eb39d1",
   "metadata": {},
   "outputs": [
    {
     "name": "stdout",
     "output_type": "stream",
     "text": [
      "(1, 3, 4)\n"
     ]
    },
    {
     "data": {
      "text/plain": [
       "array([[48, 40,  3]])"
      ]
     },
     "execution_count": 31,
     "metadata": {},
     "output_type": "execute_result"
    }
   ],
   "source": [
    "import numpy as np\n",
    "y = np.array([[[10, 12, 48, 60],\n",
    "              [10, 20, 40, 50],\n",
    "              [1, 2, 3, 4]]])\n",
    "print(y.shape)\n",
    "y[..., 2]  # 取第一列 所有gt框的xmin"
   ]
  },
  {
   "cell_type": "code",
   "execution_count": 34,
   "id": "251e18c5",
   "metadata": {},
   "outputs": [
    {
     "data": {
      "text/plain": [
       "array([[[ 0,  1,  2,  3],\n",
       "        [ 4,  5,  6,  7],\n",
       "        [ 8,  9, 10, 11]],\n",
       "\n",
       "       [[12, 13, 14, 15],\n",
       "        [16, 17, 18, 19],\n",
       "        [20, 21, 22, 23]]])"
      ]
     },
     "execution_count": 34,
     "metadata": {},
     "output_type": "execute_result"
    }
   ],
   "source": [
    "y = np.arange(24).reshape(2, 3, 4)\n",
    "y"
   ]
  },
  {
   "cell_type": "code",
   "execution_count": 35,
   "id": "edf131a2",
   "metadata": {},
   "outputs": [
    {
     "data": {
      "text/plain": [
       "array([[ 0,  4,  8],\n",
       "       [12, 16, 20]])"
      ]
     },
     "execution_count": 35,
     "metadata": {},
     "output_type": "execute_result"
    }
   ],
   "source": [
    "y[..., 0]"
   ]
  },
  {
   "cell_type": "markdown",
   "id": "55e0c6a4",
   "metadata": {},
   "source": [
    "# Pytorch知识点"
   ]
  },
  {
   "cell_type": "code",
   "execution_count": 37,
   "id": "ead80a91",
   "metadata": {},
   "outputs": [],
   "source": [
    "import torch\n",
    "import torch.nn as nn\n",
    "import torch.nn.functional as F\n",
    "import math\n",
    "import matplotlib.pyplot as plt"
   ]
  },
  {
   "cell_type": "markdown",
   "id": "d5da2d72",
   "metadata": {},
   "source": []
  }
 ],
 "metadata": {
  "kernelspec": {
   "display_name": "Python 3 (ipykernel)",
   "language": "python",
   "name": "python3"
  },
  "language_info": {
   "codemirror_mode": {
    "name": "ipython",
    "version": 3
   },
   "file_extension": ".py",
   "mimetype": "text/x-python",
   "name": "python",
   "nbconvert_exporter": "python",
   "pygments_lexer": "ipython3",
   "version": "3.8.0"
  }
 },
 "nbformat": 4,
 "nbformat_minor": 5
}
